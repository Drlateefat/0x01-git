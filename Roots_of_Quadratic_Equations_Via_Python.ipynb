{
  "nbformat": 4,
  "nbformat_minor": 0,
  "metadata": {
    "colab": {
      "provenance": [],
      "authorship_tag": "ABX9TyO6StUqu5EehiPj3pKtZ58x",
      "include_colab_link": true
    },
    "kernelspec": {
      "name": "python3",
      "display_name": "Python 3"
    },
    "language_info": {
      "name": "python"
    }
  },
  "cells": [
    {
      "cell_type": "markdown",
      "metadata": {
        "id": "view-in-github",
        "colab_type": "text"
      },
      "source": [
        "<a href=\"https://colab.research.google.com/github/Drlateefat/0x01-git/blob/main/Roots_of_Quadratic_Equations_Via_Python.ipynb\" target=\"_parent\"><img src=\"https://colab.research.google.com/assets/colab-badge.svg\" alt=\"Open In Colab\"/></a>"
      ]
    },
    {
      "cell_type": "markdown",
      "source": [
        "# How to find roots of Quadratic Equations through Python:\n",
        "$ax^2+bx+c=0$ is the general Quadratic Equation.\n",
        "\n",
        "The roots of the quadratic equation $ax^2 + bx + c = 0$ are given by:\n",
        "\n",
        "$$x = \\frac{{-b \\pm \\sqrt{b^2 - 4ac}}}{{2a}}$$\n",
        "\n",
        "\n"
      ],
      "metadata": {
        "id": "i8T8-NZ-CGX4"
      }
    },
    {
      "cell_type": "code",
      "source": [
        "import math\n",
        "\n",
        "\n",
        "a = int(input('The value of a:'))\n",
        "b = int(input('The value of b:'))\n",
        "c = int(input('The value of c:'))\n",
        "D = b**2-4*a*c  #D is the Discriminant\n",
        "\n",
        "if D > 0:\n",
        "  root1 = (-b + math.sqrt(D)) / (2*a)\n",
        "  root2 = (-b - math.sqrt(D)) / (2*a)\n",
        "  print(f'The roots of the Quadratic Equation is Distinct and Real \\n The roots are: {root1}, {root2}')\n",
        "\n",
        "elif D == 0:\n",
        "  roots = -b / (2*a)\n",
        "  print(f'The roots are equal and real {roots} twice')\n",
        "\n",
        "else:\n",
        "  real_part = -b/2*a\n",
        "  imaginary_part = math.sqrt(abs(D))/ (2 * a)\n",
        "  print(f'The roots are complex:  {real_part} + {imaginary_part}i')\n",
        "  print(f'The roots are complex: {real_part} - {imaginary_part}i')"
      ],
      "metadata": {
        "colab": {
          "base_uri": "https://localhost:8080/"
        },
        "id": "I8YFRbcwCm7o",
        "outputId": "679ff867-e378-4c59-94ae-beed82ccb8a6"
      },
      "execution_count": 16,
      "outputs": [
        {
          "output_type": "stream",
          "name": "stdout",
          "text": [
            "The value of a:2\n",
            "The value of b:-4\n",
            "The value of c:2\n",
            "The roots are equal and real 1.0twice\n"
          ]
        }
      ]
    },
    {
      "cell_type": "code",
      "source": [
        "4"
      ],
      "metadata": {
        "id": "SmvmdlwlHecl"
      },
      "execution_count": null,
      "outputs": []
    }
  ]
}